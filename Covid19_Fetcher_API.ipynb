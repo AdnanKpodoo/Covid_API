{
  "cells": [
    {
      "cell_type": "markdown",
      "metadata": {
        "id": "view-in-github",
        "colab_type": "text"
      },
      "source": [
        "<a href=\"https://colab.research.google.com/github/AdnanKpodoo/Covid_API/blob/main/Covid19_Fetcher_API.ipynb\" target=\"_parent\"><img src=\"https://colab.research.google.com/assets/colab-badge.svg\" alt=\"Open In Colab\"/></a>"
      ]
    },
    {
      "cell_type": "code",
      "execution_count": null,
      "metadata": {
        "id": "miB5Qw2oAnUQ"
      },
      "outputs": [],
      "source": [
        "#Installed flask and ngrok via flask\n",
        "!pip install flask flask-ngrok requests\n"
      ]
    },
    {
      "cell_type": "markdown",
      "metadata": {
        "id": "__Dzb3mWj3Un"
      },
      "source": [
        "#Installed ngrok via APT/Linux"
      ]
    },
    {
      "cell_type": "code",
      "execution_count": null,
      "metadata": {
        "collapsed": true,
        "id": "lyxpjpCVbXXw"
      },
      "outputs": [],
      "source": [
        "!curl -s https://ngrok-agent.s3.amazonaws.com/ngrok.asc | sudo tee /etc/apt/trusted.gpg.d/ngrok.asc >/dev/null && echo \"deb https://ngrok-agent.s3.amazonaws.com buster main\" | sudo tee /etc/apt/sources.list.d/ngrok.list && sudo apt update && sudo apt install ngrok"
      ]
    },
    {
      "cell_type": "markdown",
      "metadata": {
        "id": "MOWnZLlvcNV7"
      },
      "source": [
        "Connecting my ngrok account"
      ]
    },
    {
      "cell_type": "code",
      "execution_count": null,
      "metadata": {
        "id": "K0kXjZPTcMPk"
      },
      "outputs": [],
      "source": [
        "!ngrok config add-authtoken 2kFuBsmh1GSETC4AjlXvOUCkW2r_23syi2UJGwqEhVAo9outL"
      ]
    },
    {
      "cell_type": "code",
      "execution_count": null,
      "metadata": {
        "id": "xZKVZ4cF5X6l"
      },
      "outputs": [],
      "source": [
        "from flask_ngrok import run_with_ngrok\n",
        "from flask import Flask, request, jsonify, render_template\n",
        "#from pyngrok import ngrok\n",
        "import requests\n",
        "import pickle\n",
        "import json"
      ]
    },
    {
      "cell_type": "code",
      "execution_count": null,
      "metadata": {
        "id": "rA7_WXRD5NK4"
      },
      "outputs": [],
      "source": [
        "#Putting in my API key via api ninjas\n",
        "#Also the url for the covid19 api aswell\n",
        "API_KEY = 'ZoCZHlrcd0cRzqEZCcQz3A==I0MAXUBQqXijlNfd'  # Replace 'YOUR_API_KEY' with your actual API key\n",
        "API_URL = 'https://api.api-ninjas.com/v1/covid19'"
      ]
    },
    {
      "cell_type": "code",
      "execution_count": null,
      "metadata": {
        "id": "JibShwMx5wZ_"
      },
      "outputs": [],
      "source": [
        "def get_covid19_data(country):\n",
        "    headers = {\n",
        "        'X-Api-Key': API_KEY\n",
        "    }\n",
        "    params = {\n",
        "        'country': country\n",
        "\n",
        "    }\n",
        "    response = requests.get(API_URL, headers=headers, params=params)\n",
        "\n",
        "    # Print the status code and response content for debugging\n",
        "    print(\"Status Code:\", response.status_code)\n",
        "    print(\"Response Content:\", response.content)\n",
        "\n",
        "\n",
        "    if response.status_code == 200:\n",
        "        try:\n",
        "            return response.json()\n",
        "        except json.JSONDecodeError:\n",
        "            print(\"Error decoding JSON, response content is not JSON format\")\n",
        "            return None\n",
        "    else:\n",
        "        print(\"Failed to retrieve data: Status code\", response.status_code)\n",
        "        return None"
      ]
    },
    {
      "cell_type": "code",
      "execution_count": null,
      "metadata": {
        "id": "bL_UAEkY6YZc"
      },
      "outputs": [],
      "source": [
        "country = 'USA'  # You can change this to any country you are interested in\n",
        "data = get_covid19_data(country)\n",
        "if data:\n",
        "    print(json.dumps(data, indent=2))\n",
        "else:\n",
        "    print(\"Failed to retrieve data\")"
      ]
    },
    {
      "cell_type": "code",
      "execution_count": null,
      "metadata": {
        "colab": {
          "background_save": true,
          "base_uri": "https://localhost:8080/"
        },
        "id": "CmdmSajw_H9i",
        "outputId": "32656846-0294-4fc6-bfcd-f4c8e5d0f4ea"
      },
      "outputs": [
        {
          "name": "stdout",
          "output_type": "stream",
          "text": [
            " * Serving Flask app '__main__'\n",
            " * Debug mode: off\n"
          ]
        },
        {
          "name": "stderr",
          "output_type": "stream",
          "text": [
            "INFO:werkzeug:\u001b[31m\u001b[1mWARNING: This is a development server. Do not use it in a production deployment. Use a production WSGI server instead.\u001b[0m\n",
            " * Running on http://127.0.0.1:5000\n",
            "INFO:werkzeug:\u001b[33mPress CTRL+C to quit\u001b[0m\n",
            "Exception in thread Thread-12:\n",
            "Traceback (most recent call last):\n",
            "  File \"/usr/local/lib/python3.10/dist-packages/urllib3/connection.py\", line 203, in _new_conn\n",
            "    sock = connection.create_connection(\n",
            "  File \"/usr/local/lib/python3.10/dist-packages/urllib3/util/connection.py\", line 85, in create_connection\n",
            "    raise err\n",
            "  File \"/usr/local/lib/python3.10/dist-packages/urllib3/util/connection.py\", line 73, in create_connection\n",
            "    sock.connect(sa)\n",
            "ConnectionRefusedError: [Errno 111] Connection refused\n",
            "\n",
            "The above exception was the direct cause of the following exception:\n",
            "\n",
            "Traceback (most recent call last):\n",
            "  File \"/usr/local/lib/python3.10/dist-packages/urllib3/connectionpool.py\", line 791, in urlopen\n",
            "    response = self._make_request(\n",
            "  File \"/usr/local/lib/python3.10/dist-packages/urllib3/connectionpool.py\", line 497, in _make_request\n",
            "    conn.request(\n",
            "  File \"/usr/local/lib/python3.10/dist-packages/urllib3/connection.py\", line 395, in request\n",
            "    self.endheaders()\n",
            "  File \"/usr/lib/python3.10/http/client.py\", line 1278, in endheaders\n",
            "    self._send_output(message_body, encode_chunked=encode_chunked)\n",
            "  File \"/usr/lib/python3.10/http/client.py\", line 1038, in _send_output\n",
            "    self.send(msg)\n",
            "  File \"/usr/lib/python3.10/http/client.py\", line 976, in send\n",
            "    self.connect()\n",
            "  File \"/usr/local/lib/python3.10/dist-packages/urllib3/connection.py\", line 243, in connect\n",
            "    self.sock = self._new_conn()\n",
            "  File \"/usr/local/lib/python3.10/dist-packages/urllib3/connection.py\", line 218, in _new_conn\n",
            "    raise NewConnectionError(\n",
            "urllib3.exceptions.NewConnectionError: <urllib3.connection.HTTPConnection object at 0x7ea8ad6cf820>: Failed to establish a new connection: [Errno 111] Connection refused\n",
            "\n",
            "The above exception was the direct cause of the following exception:\n",
            "\n",
            "Traceback (most recent call last):\n",
            "  File \"/usr/local/lib/python3.10/dist-packages/requests/adapters.py\", line 667, in send\n",
            "    resp = conn.urlopen(\n",
            "  File \"/usr/local/lib/python3.10/dist-packages/urllib3/connectionpool.py\", line 845, in urlopen\n",
            "    retries = retries.increment(\n",
            "  File \"/usr/local/lib/python3.10/dist-packages/urllib3/util/retry.py\", line 515, in increment\n",
            "    raise MaxRetryError(_pool, url, reason) from reason  # type: ignore[arg-type]\n",
            "urllib3.exceptions.MaxRetryError: HTTPConnectionPool(host='localhost', port=4040): Max retries exceeded with url: /api/tunnels (Caused by NewConnectionError('<urllib3.connection.HTTPConnection object at 0x7ea8ad6cf820>: Failed to establish a new connection: [Errno 111] Connection refused'))\n",
            "\n",
            "During handling of the above exception, another exception occurred:\n",
            "\n",
            "Traceback (most recent call last):\n",
            "  File \"/usr/lib/python3.10/threading.py\", line 1016, in _bootstrap_inner\n",
            "    self.run()\n",
            "  File \"/usr/lib/python3.10/threading.py\", line 1378, in run\n",
            "    self.function(*self.args, **self.kwargs)\n",
            "  File \"/usr/local/lib/python3.10/dist-packages/flask_ngrok.py\", line 70, in start_ngrok\n",
            "    ngrok_address = _run_ngrok()\n",
            "  File \"/usr/local/lib/python3.10/dist-packages/flask_ngrok.py\", line 35, in _run_ngrok\n",
            "    tunnel_url = requests.get(localhost_url).text  # Get the tunnel information\n",
            "  File \"/usr/local/lib/python3.10/dist-packages/requests/api.py\", line 73, in get\n",
            "    return request(\"get\", url, params=params, **kwargs)\n",
            "  File \"/usr/local/lib/python3.10/dist-packages/requests/api.py\", line 59, in request\n",
            "    return session.request(method=method, url=url, **kwargs)\n",
            "  File \"/usr/local/lib/python3.10/dist-packages/requests/sessions.py\", line 589, in request\n",
            "    resp = self.send(prep, **send_kwargs)\n",
            "  File \"/usr/local/lib/python3.10/dist-packages/requests/sessions.py\", line 703, in send\n",
            "    r = adapter.send(request, **kwargs)\n",
            "  File \"/usr/local/lib/python3.10/dist-packages/requests/adapters.py\", line 700, in send\n",
            "    raise ConnectionError(e, request=request)\n",
            "requests.exceptions.ConnectionError: HTTPConnectionPool(host='localhost', port=4040): Max retries exceeded with url: /api/tunnels (Caused by NewConnectionError('<urllib3.connection.HTTPConnection object at 0x7ea8ad6cf820>: Failed to establish a new connection: [Errno 111] Connection refused'))\n"
          ]
        }
      ],
      "source": [
        "# Create Flask app\n",
        "app = Flask(__name__)\n",
        "run_with_ngrok(app)  # Start ngrok when app is run\n",
        "\n",
        "\n",
        "# Set up ngrok tunnel\n",
        "#public_url = ngrok.connect(5000)\n",
        "#print(f'Ngrok tunnel \"public_url\" -> {public_url}')\n",
        "\n",
        "@app.route('/')\n",
        "def home():\n",
        "    return '''\n",
        "        <h1>COVID-19 Data Fetcher</h1>\n",
        "        <form action=\"/get_data\" method=\"get\">\n",
        "            <label for=\"country\">Country:</label>\n",
        "            <input type=\"text\" id=\"country\" name=\"country\">\n",
        "            <input type=\"submit\" value=\"Get Data\">\n",
        "        </form>\n",
        "    '''\n",
        "\n",
        "@app.route('/get_data', methods=['GET'])\n",
        "def get_data():\n",
        "    country = request.args.get('country')\n",
        "    if country:\n",
        "        data = get_covid19_data(country)\n",
        "        return jsonify(data)\n",
        "    else:\n",
        "        return jsonify({\"error\": \"No country specified\"})\n",
        "\n",
        "if __name__ == '__main__':\n",
        "    app.run()"
      ]
    },
    {
      "cell_type": "code",
      "execution_count": null,
      "metadata": {
        "id": "b8JX8tuMSgBw"
      },
      "outputs": [],
      "source": [
        "#Url provided by serveo:"
      ]
    }
  ],
  "metadata": {
    "colab": {
      "provenance": [],
      "authorship_tag": "ABX9TyMx2xNE2xdJMuegRs66lYAh",
      "include_colab_link": true
    },
    "kernelspec": {
      "display_name": "Python 3",
      "name": "python3"
    },
    "language_info": {
      "name": "python"
    }
  },
  "nbformat": 4,
  "nbformat_minor": 0
}